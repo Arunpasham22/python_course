{
 "cells": [
  {
   "cell_type": "code",
   "execution_count": 8,
   "id": "067ad04c",
   "metadata": {},
   "outputs": [
    {
     "name": "stdout",
     "output_type": "stream",
     "text": [
      "* * * * * * * * \n",
      "* * * * * * * \n",
      "* * * * * * \n",
      "* * * * * \n",
      "* * * * \n",
      "* * * \n",
      "* * \n",
      "* \n",
      "\n"
     ]
    }
   ],
   "source": [
    "rows = 9\n",
    "for i in range(1, rows+1):       # controls row number\n",
    "    for j in range(rows-i):      # controls how many stars in that row\n",
    "        print(\"*\", end=\" \")       # print stars in same line\n",
    "    print()                      # move to next line\n"
   ]
  },
  {
   "cell_type": "code",
   "execution_count": 19,
   "id": "9c90bc56",
   "metadata": {},
   "outputs": [
    {
     "name": "stdout",
     "output_type": "stream",
     "text": [
      "Incorrect PIN. Try again.\n"
     ]
    }
   ],
   "source": [
    "correct_pin = \"1234\"\n",
    "attempts = 0\n",
    "max_attempts = 3\n",
    "entered_pin = input(\"Enter your PIN: \")\n",
    "for attempts in range( max_attempts):\n",
    "    \n",
    "    if entered_pin == correct_pin:\n",
    "     print(\"Login successful!\")\n",
    "    else:\n",
    "      print(\"Incorrect PIN. Try again.\")\n",
    "      break\n",
    "\n",
    "else:\n",
    "    print(\"Account locked due to too many failed attempts.\")"
   ]
  },
  {
   "cell_type": "code",
   "execution_count": null,
   "id": "6ceb604d",
   "metadata": {},
   "outputs": [
    {
     "name": "stdout",
     "output_type": "stream",
     "text": [
      "Incorrect PIN. Try again.\n",
      "Incorrect PIN. Try again.\n",
      "Incorrect PIN. Try again.\n",
      "Account locked due to too many failed attempts.\n"
     ]
    }
   ],
   "source": [
    "correct_pin = \"1234\"\n",
    "max_attempts = 3\n",
    "\n",
    "for attempt in range(max_attempts):  \n",
    "    entered_pin = input(\"Enter your PIN: \")\n",
    "    if entered_pin == correct_pin:\n",
    "        print(\"Login successful!\")\n",
    "        break\n",
    "    else:\n",
    "        print(\"Incorrect PIN. Try again.\")\n",
    "\n",
    "else:\n",
    "    print(\"Account locked due to too many failed attempts.\")\n"
   ]
  },
  {
   "cell_type": "code",
   "execution_count": 4,
   "id": "cebb3e6f",
   "metadata": {},
   "outputs": [
    {
     "data": {
      "text/plain": [
       "120"
      ]
     },
     "execution_count": 4,
     "metadata": {},
     "output_type": "execute_result"
    }
   ],
   "source": [
    "def factorial(n):\n",
    "    fact = 1\n",
    "    for i in range(1, n + 1):\n",
    "        fact *= i\n",
    "    return fact\n",
    "factorial(5)"
   ]
  },
  {
   "cell_type": "code",
   "execution_count": 9,
   "id": "16c28ed7",
   "metadata": {},
   "outputs": [
    {
     "name": "stdout",
     "output_type": "stream",
     "text": [
      "\n",
      "--- Fibonacci Menu ---\n",
      "1. Generate Fibonacci Series\n",
      "2. Exit\n"
     ]
    },
    {
     "ename": "ValueError",
     "evalue": "invalid literal for int() with base 10: ''",
     "output_type": "error",
     "traceback": [
      "\u001b[31m---------------------------------------------------------------------------\u001b[39m",
      "\u001b[31mValueError\u001b[39m                                Traceback (most recent call last)",
      "\u001b[36mCell\u001b[39m\u001b[36m \u001b[39m\u001b[32mIn[9]\u001b[39m\u001b[32m, line 6\u001b[39m\n\u001b[32m      3\u001b[39m \u001b[38;5;28mprint\u001b[39m(\u001b[33m\"\u001b[39m\u001b[33m1. Generate Fibonacci Series\u001b[39m\u001b[33m\"\u001b[39m)\n\u001b[32m      4\u001b[39m \u001b[38;5;28mprint\u001b[39m(\u001b[33m\"\u001b[39m\u001b[33m2. Exit\u001b[39m\u001b[33m\"\u001b[39m)\n\u001b[32m----> \u001b[39m\u001b[32m6\u001b[39m choice = \u001b[38;5;28;43mint\u001b[39;49m\u001b[43m(\u001b[49m\u001b[38;5;28;43minput\u001b[39;49m\u001b[43m(\u001b[49m\u001b[33;43m\"\u001b[39;49m\u001b[33;43mEnter choice: \u001b[39;49m\u001b[33;43m\"\u001b[39;49m\u001b[43m)\u001b[49m\u001b[43m)\u001b[49m\n\u001b[32m      8\u001b[39m \u001b[38;5;28;01mif\u001b[39;00m choice == \u001b[32m2\u001b[39m:\n\u001b[32m      9\u001b[39m     \u001b[38;5;28;01mbreak\u001b[39;00m\n",
      "\u001b[31mValueError\u001b[39m: invalid literal for int() with base 10: ''"
     ]
    }
   ],
   "source": [
    "while True:\n",
    "    print(\"\\n--- Fibonacci Menu ---\")\n",
    "    print(\"1. Generate Fibonacci Series\")\n",
    "    print(\"2. Exit\")\n",
    "    \n",
    "    choice = int(input(\"Enter choice: \"))\n",
    "    \n",
    "    if choice == 2:\n",
    "        break\n",
    "    elif choice == 1:\n",
    "        n = int(input(\"Enter number of terms: \"))\n",
    "        a, b = 0, 1\n",
    "        print(\"Fibonacci Series:\", end=\" \")\n",
    "        for _ in range(n):\n",
    "            print(a, end=\" \")\n",
    "            a, b = b, a + b\n",
    "        print()\n",
    "    else:\n",
    "        print(\"Invalid choice. Please enter 1 or 2.\")\n"
   ]
  },
  {
   "cell_type": "code",
   "execution_count": null,
   "id": "2298c67a",
   "metadata": {},
   "outputs": [
    {
     "name": "stdout",
     "output_type": "stream",
     "text": [
      "1.append\n",
      "2.display\n",
      "3.remove\n",
      "4.exit\n"
     ]
    }
   ],
   "source": [
    "list_m=[]\n",
    "while True:\n",
    "    print(\"1.append\")\n",
    "    print(\"2.display\")\n",
    "    print(\"3.remove\")\n",
    "    print(\"4.exit\")\n",
    "    choice=int(input(\"enter your choice\"))\n",
    "    if choice==4:\n",
    "        break\n",
    "    if choice == 1:\n",
    "        val=int(input(\"enter value\"))\n",
    "        list_m.append(val)\n",
    "        print(list_m)\n",
    "    elif choice == 2:\n",
    "        print(\"display ing \", list_m)\n",
    "    elif choice == 3:\n",
    "        val=int(input(\"enter value\"))\n",
    "        if val in list_m:\n",
    "            print(\"remove\",list_m.remove(val))\n",
    "        else:\n",
    "            print(\"value not found\")\n",
    "    else:\n",
    "        print(\"you have entered invalid choice!\")   \n",
    "        "
   ]
  },
  {
   "cell_type": "code",
   "execution_count": 15,
   "id": "a24f9b5c",
   "metadata": {},
   "outputs": [
    {
     "name": "stdout",
     "output_type": "stream",
     "text": [
      "1.find length\n",
      "2.reverse a string\n",
      "3.convert upper case\n",
      "4.exit\n",
      "length of string is: 8\n",
      "1.find length\n",
      "2.reverse a string\n",
      "3.convert upper case\n",
      "4.exit\n"
     ]
    },
    {
     "ename": "ValueError",
     "evalue": "invalid literal for int() with base 10: ''",
     "output_type": "error",
     "traceback": [
      "\u001b[31m---------------------------------------------------------------------------\u001b[39m",
      "\u001b[31mValueError\u001b[39m                                Traceback (most recent call last)",
      "\u001b[36mCell\u001b[39m\u001b[36m \u001b[39m\u001b[32mIn[15]\u001b[39m\u001b[32m, line 6\u001b[39m\n\u001b[32m      4\u001b[39m \u001b[38;5;28mprint\u001b[39m(\u001b[33m\"\u001b[39m\u001b[33m3.convert upper case\u001b[39m\u001b[33m\"\u001b[39m)\n\u001b[32m      5\u001b[39m \u001b[38;5;28mprint\u001b[39m(\u001b[33m\"\u001b[39m\u001b[33m4.exit\u001b[39m\u001b[33m\"\u001b[39m)\n\u001b[32m----> \u001b[39m\u001b[32m6\u001b[39m choice=\u001b[38;5;28;43mint\u001b[39;49m\u001b[43m(\u001b[49m\u001b[38;5;28;43minput\u001b[39;49m\u001b[43m(\u001b[49m\u001b[33;43m\"\u001b[39;49m\u001b[33;43menter your choice\u001b[39;49m\u001b[33;43m\"\u001b[39;49m\u001b[43m)\u001b[49m\u001b[43m)\u001b[49m\n\u001b[32m      7\u001b[39m s=\u001b[38;5;28minput\u001b[39m(\u001b[33m\"\u001b[39m\u001b[33menter string\u001b[39m\u001b[33m\"\u001b[39m)\n\u001b[32m      8\u001b[39m \u001b[38;5;28;01mif\u001b[39;00m choice == \u001b[32m4\u001b[39m :\n",
      "\u001b[31mValueError\u001b[39m: invalid literal for int() with base 10: ''"
     ]
    }
   ],
   "source": [
    "while True:\n",
    "    print(\"1.find length\")\n",
    "    print(\"2.reverse a string\")\n",
    "    print(\"3.convert upper case\")\n",
    "    print(\"4.exit\")\n",
    "    choice=int(input(\"enter your choice\"))\n",
    "    s=input(\"enter string\")\n",
    "    if choice == 4 :\n",
    "        break\n",
    "    elif choice == 1:\n",
    "        print(\"length of string is:\",len(s))\n",
    "    elif choice == 2:\n",
    "        print(\"reverse \",s[::-1])\n",
    "    elif choice == 3:\n",
    "        print(\"uppercase\",s.upper())\n",
    "    else:\n",
    "        print(\"invalid choice!\")\n",
    "        "
   ]
  },
  {
   "cell_type": "code",
   "execution_count": 7,
   "id": "a3e82b07",
   "metadata": {},
   "outputs": [
    {
     "name": "stdout",
     "output_type": "stream",
     "text": [
      "\n",
      "--- Factorial Program ---\n",
      "1. Find Factorial\n",
      "2. Exit\n",
      "Factorial of 5 = 120\n",
      "\n",
      "--- Factorial Program ---\n",
      "1. Find Factorial\n",
      "2. Exit\n"
     ]
    },
    {
     "ename": "ValueError",
     "evalue": "invalid literal for int() with base 10: ''",
     "output_type": "error",
     "traceback": [
      "\u001b[31m---------------------------------------------------------------------------\u001b[39m",
      "\u001b[31mValueError\u001b[39m                                Traceback (most recent call last)",
      "\u001b[36mCell\u001b[39m\u001b[36m \u001b[39m\u001b[32mIn[7]\u001b[39m\u001b[32m, line 12\u001b[39m\n\u001b[32m      9\u001b[39m \u001b[38;5;28mprint\u001b[39m(\u001b[33m\"\u001b[39m\u001b[33m1. Find Factorial\u001b[39m\u001b[33m\"\u001b[39m)\n\u001b[32m     10\u001b[39m \u001b[38;5;28mprint\u001b[39m(\u001b[33m\"\u001b[39m\u001b[33m2. Exit\u001b[39m\u001b[33m\"\u001b[39m)\n\u001b[32m---> \u001b[39m\u001b[32m12\u001b[39m choice = \u001b[38;5;28;43mint\u001b[39;49m\u001b[43m(\u001b[49m\u001b[38;5;28;43minput\u001b[39;49m\u001b[43m(\u001b[49m\u001b[33;43m\"\u001b[39;49m\u001b[33;43mEnter choice: \u001b[39;49m\u001b[33;43m\"\u001b[39;49m\u001b[43m)\u001b[49m\u001b[43m)\u001b[49m\n\u001b[32m     14\u001b[39m \u001b[38;5;28;01mif\u001b[39;00m choice == \u001b[32m2\u001b[39m:\n\u001b[32m     15\u001b[39m     \u001b[38;5;28;01mbreak\u001b[39;00m\n",
      "\u001b[31mValueError\u001b[39m: invalid literal for int() with base 10: ''"
     ]
    }
   ],
   "source": [
    "def factorial(n):\n",
    "    fact = 1\n",
    "    for i in range(1, n + 1):\n",
    "        fact *= i\n",
    "    return fact\n",
    "\n",
    "while True:\n",
    "    print(\"\\n--- Factorial Program ---\")\n",
    "    print(\"1. Find Factorial\")\n",
    "    print(\"2. Exit\")\n",
    "    \n",
    "    choice = int(input(\"Enter choice: \"))\n",
    "    \n",
    "    if choice == 2:\n",
    "        break\n",
    "    \n",
    "    num= int(input(\"Enter number: \"))\n",
    "    print(\"Factorial of\", num, \"=\", factorial(num))\n"
   ]
  },
  {
   "cell_type": "code",
   "execution_count": null,
   "id": "c78974a3",
   "metadata": {},
   "outputs": [],
   "source": []
  },
  {
   "cell_type": "code",
   "execution_count": 1,
   "id": "10f10593",
   "metadata": {},
   "outputs": [
    {
     "name": "stdout",
     "output_type": "stream",
     "text": [
      "*        *\n",
      "**      **\n",
      "***    ***\n",
      "****  ****\n",
      "**********\n",
      "****  ****\n",
      "***    ***\n",
      "**      **\n",
      "*        *\n"
     ]
    }
   ],
   "source": [
    "n = 5\n",
    "# upper\n",
    "for j in range(1, n+1):\n",
    "    print(\"*\" * j + \" \" * (2*(n-j)) + \"*\" * j)\n",
    "# lower\n",
    "for j in range(n-1, 0, -1):\n",
    "    print(\"*\" * j+ \" \" * (2*(n-j)) + \"*\" * j)\n"
   ]
  },
  {
   "cell_type": "code",
   "execution_count": 7,
   "id": "da683608",
   "metadata": {},
   "outputs": [
    {
     "name": "stdout",
     "output_type": "stream",
     "text": [
      "* * * * * * * * * * * * * * * * * * * * * * * * * \n",
      "*                                               * \n",
      "*                                               * \n",
      "*                                               * \n",
      "*                                               * \n",
      "*                                               * \n",
      "*                                               * \n",
      "*                                               * \n",
      "*                                               * \n",
      "*                                               * \n",
      "*                                               * \n",
      "*                                               * \n",
      "*                                               * \n",
      "*                                               * \n",
      "*                                               * \n",
      "*                                               * \n",
      "*                                               * \n",
      "*                                               * \n",
      "*                                               * \n",
      "*                                               * \n",
      "*                                               * \n",
      "*                                               * \n",
      "*                                               * \n",
      "*                                               * \n",
      "* * * * * * * * * * * * * * * * * * * * * * * * * \n"
     ]
    }
   ],
   "source": [
    "\n",
    "n = 25\n",
    "for i in range(n):\n",
    "    if i == 0 or i == n-1:\n",
    "        print(\"* \" * n)\n",
    "    else:\n",
    "        print(\"* \" + \"  \"*(n-2) + \"* \")\n"
   ]
  },
  {
   "cell_type": "code",
   "execution_count": null,
   "id": "e8112171",
   "metadata": {},
   "outputs": [],
   "source": []
  },
  {
   "cell_type": "code",
   "execution_count": 39,
   "id": "b589fe1f",
   "metadata": {},
   "outputs": [
    {
     "name": "stdout",
     "output_type": "stream",
     "text": [
      "*******\n",
      "******\n",
      "*****\n",
      "****\n",
      "***\n",
      "**\n",
      "*\n"
     ]
    }
   ],
   "source": [
    "n=7\n",
    "for i in range(n):\n",
    "    for j in range(n-i):\n",
    "        print(\"*\",end=\"\")\n",
    "    print()               \n"
   ]
  },
  {
   "cell_type": "code",
   "execution_count": 4,
   "id": "f0c54345",
   "metadata": {},
   "outputs": [
    {
     "name": "stdout",
     "output_type": "stream",
     "text": [
      "                     * \n",
      "                    * * \n",
      "                   * * * \n",
      "                  * * * * \n",
      "                 * * * * * \n",
      "                * * * * * * \n",
      "               * * * * * * * \n",
      "              * * * * * * * * \n",
      "             * * * * * * * * * \n",
      "            * * * * * * * * * * \n",
      "           * * * * * * * * * * * \n",
      "          * * * * * * * * * * * * \n",
      "         * * * * * * * * * * * * * \n",
      "        * * * * * * * * * * * * * * \n",
      "       * * * * * * * * * * * * * * * \n",
      "      * * * * * * * * * * * * * * * * \n",
      "     * * * * * * * * * * * * * * * * * \n",
      "    * * * * * * * * * * * * * * * * * * \n",
      "   * * * * * * * * * * * * * * * * * * * \n",
      "  * * * * * * * * * * * * * * * * * * * * \n",
      " * * * * * * * * * * * * * * * * * * * * * \n",
      "* * * * * * * * * * * * * * * * * * * * * * \n"
     ]
    }
   ],
   "source": [
    "n=22\n",
    "\n",
    "for i in range(1,n+1):\n",
    "        print(\" \" * (n-i)+ \"* \" * i)\n",
    "        \n"
   ]
  }
 ],
 "metadata": {
  "kernelspec": {
   "display_name": "Python 3",
   "language": "python",
   "name": "python3"
  },
  "language_info": {
   "codemirror_mode": {
    "name": "ipython",
    "version": 3
   },
   "file_extension": ".py",
   "mimetype": "text/x-python",
   "name": "python",
   "nbconvert_exporter": "python",
   "pygments_lexer": "ipython3",
   "version": "3.13.5"
  }
 },
 "nbformat": 4,
 "nbformat_minor": 5
}
